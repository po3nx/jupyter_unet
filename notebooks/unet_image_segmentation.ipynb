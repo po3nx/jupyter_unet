{
 "cells": [
  {
   "cell_type": "markdown",
   "metadata": {},
   "source": [
    "## Set up the environment"
   ]
  },
  {
   "cell_type": "code",
   "execution_count": null,
   "metadata": {},
   "outputs": [],
   "source": [
    "import sys\n",
    "import os\n",
    "current_dir = os.getcwd()\n",
    "project_root = os.path.abspath(os.path.join(current_dir, '..'))\n",
    "sys.path.append(project_root)\n",
    "\n",
    "# Print the current working directory and project root for debugging\n",
    "print(\"Current Working Directory:\", current_dir)\n",
    "print(\"Project Root Directory:\", project_root)"
   ]
  },
  {
   "cell_type": "markdown",
   "metadata": {},
   "source": [
    "## Import necessary libraries"
   ]
  },
  {
   "cell_type": "code",
   "execution_count": 21,
   "metadata": {},
   "outputs": [],
   "source": [
    "import os\n",
    "import numpy as np\n",
    "import tensorflow as tf\n",
    "from tensorflow.keras.preprocessing.image import img_to_array, load_img\n",
    "import matplotlib.pyplot as plt\n",
    "import random\n",
    "from skimage.measure import label, regionprops\n",
    "from src.unet import ImageSegmentationModel\n",
    "from utils.data_utils import load_images, save_preprocessed_data, load_preprocessed_data"
   ]
  },
  {
   "cell_type": "markdown",
   "metadata": {},
   "source": [
    "## Define paths"
   ]
  },
  {
   "cell_type": "code",
   "execution_count": null,
   "metadata": {},
   "outputs": [],
   "source": [
    "image_dir = os.path.join(project_root, 'data/raw/images')\n",
    "mask_dir = os.path.join(project_root, 'data/raw/masks')\n",
    "model_path = os.path.join(project_root, 'models/unet_model.h5')\n",
    "processed_dir = os.path.join(project_root, 'data/processed')\n",
    "results_dir = os.path.join(project_root, 'results/segmentation_results')\n",
    "\n",
    "# Print the absolute paths for debugging\n",
    "print(\"Image Directory:\", image_dir)\n",
    "print(\"Mask Directory:\", mask_dir)\n",
    "\n",
    "# Verify that the directories exist\n",
    "assert os.path.exists(image_dir), f\"Directory does not exist: {image_dir}\"\n",
    "assert os.path.exists(mask_dir), f\"Directory does not exist: {mask_dir}\""
   ]
  },
  {
   "cell_type": "markdown",
   "metadata": {},
   "source": [
    "## Create an instance of the ImageSegmentationModel"
   ]
  },
  {
   "cell_type": "code",
   "execution_count": null,
   "metadata": {},
   "outputs": [],
   "source": [
    "image_model = ImageSegmentationModel(image_dir, mask_dir, model_path, processed_dir, results_dir)"
   ]
  },
  {
   "cell_type": "markdown",
   "metadata": {},
   "source": [
    "## Train the model if not already trained"
   ]
  },
  {
   "cell_type": "code",
   "execution_count": null,
   "metadata": {},
   "outputs": [],
   "source": [
    "if not os.path.exists(model_path):\n",
    "    history = image_model.train()\n",
    "    image_model.plot_history(history)\n"
   ]
  },
  {
   "cell_type": "markdown",
   "metadata": {},
   "source": [
    "## Test the model with random images"
   ]
  },
  {
   "cell_type": "code",
   "execution_count": null,
   "metadata": {},
   "outputs": [],
   "source": [
    "image_model.test_random_images(5)"
   ]
  },
  {
   "cell_type": "markdown",
   "metadata": {},
   "source": [
    "## Visualize and count centers in a specific image"
   ]
  },
  {
   "cell_type": "code",
   "execution_count": null,
   "metadata": {},
   "outputs": [],
   "source": [
    "image_path = 'data/raw/images/sample_image.png'\n",
    "centroids, count = image_model.visualize_and_count_centers(image_path)\n",
    "print(f\"Number of centers detected: {count}\")"
   ]
  }
 ],
 "metadata": {
  "kernelspec": {
   "display_name": "py39",
   "language": "python",
   "name": "python3"
  },
  "language_info": {
   "codemirror_mode": {
    "name": "ipython",
    "version": 3
   },
   "file_extension": ".py",
   "mimetype": "text/x-python",
   "name": "python",
   "nbconvert_exporter": "python",
   "pygments_lexer": "ipython3",
   "version": "3.9.16"
  }
 },
 "nbformat": 4,
 "nbformat_minor": 2
}
